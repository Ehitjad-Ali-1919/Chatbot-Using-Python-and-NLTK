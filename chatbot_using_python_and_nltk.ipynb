{
  "nbformat": 4,
  "nbformat_minor": 0,
  "metadata": {
    "colab": {
      "provenance": []
    },
    "kernelspec": {
      "name": "python3",
      "display_name": "Python 3"
    },
    "language_info": {
      "name": "python"
    }
  },
  "cells": [
    {
      "cell_type": "code",
      "execution_count": 11,
      "metadata": {
        "colab": {
          "base_uri": "https://localhost:8080/"
        },
        "id": "qHe3Lj-Rdf7Z",
        "outputId": "3e6d6e57-b51b-4f0b-bcb6-5c3e5a2896c1"
      },
      "outputs": [
        {
          "output_type": "stream",
          "name": "stdout",
          "text": [
            "Requirement already satisfied: nltk in /usr/local/lib/python3.10/dist-packages (3.8.1)\n",
            "Requirement already satisfied: click in /usr/local/lib/python3.10/dist-packages (from nltk) (8.1.7)\n",
            "Requirement already satisfied: joblib in /usr/local/lib/python3.10/dist-packages (from nltk) (1.3.2)\n",
            "Requirement already satisfied: regex>=2021.8.3 in /usr/local/lib/python3.10/dist-packages (from nltk) (2023.12.25)\n",
            "Requirement already satisfied: tqdm in /usr/local/lib/python3.10/dist-packages (from nltk) (4.66.2)\n"
          ]
        }
      ],
      "source": [
        "! pip install nltk"
      ]
    },
    {
      "cell_type": "code",
      "source": [
        "import nltk\n",
        "from nltk.chat.util import Chat, reflections\n"
      ],
      "metadata": {
        "id": "gg-Jc3uIdi1q"
      },
      "execution_count": 12,
      "outputs": []
    },
    {
      "cell_type": "code",
      "source": [
        "rules = [\n",
        "    (r\"hi|hello|hey\", [\"Hello!\", \"Hi there!\", \"Hey!\"]),\n",
        "    (r\"how are you?\", [\"I'm good, thank you!\", \"I'm doing well!\"]),\n",
        "    (r\"How does the weather look today?\", [\"Weather in today is 75F.\" ]),\n",
        "    (r\"Can you tell me the temperature in New York?\", [\"It's sunny in New York.\"]),\n",
        "    (r\"What time is it?\", [\"Sorry, I cannot provide real-time information..\"]),\n",
        "    (r\"Who created you?\", [\"i am created by python and NLTK\"]),\n",
        "    (r\"What is machine learning?\", [\" Machine learning is a subset of artificial intelligence that enables computers to learn from data.\"]),\n",
        "    (r\"How does a neural network work?\", [\"A neural network is a computational model inspired by the human brain, consisting of interconnected nodes (neurons) organized into layers..\"]),\n",
        "    (r\"What is natural language processing?\", [\"Natural language processing (NLP) is a field of artificial intelligence that focuses on the interaction between computers and human language.t.\"]),\n",
        "    (r\"Can you help me with my homework?\", [\" I can try to assist you. Please provide more details about your homework..\"]),\n",
        "    (r\"Where do you live?\", [\"I exist in the computer's memory and don't have a physical location.\"]),\n",
        "    (r\" What is the meaning of life?\", [\"The meaning of life is subjective and varies from person to person..\"]),\n",
        "    (r\"thanks for your help.\", [\"not mention thank you.\"]),\n",
        "    (r\"(.*) your name?\", [\"I'm a chatbot!\", \"You can call me Chatbot.\"]),\n",
        "    (r\"(.*) (weather|temperature) in (.*)\", [\"Weather in %3 is 75F.\", \"It's sunny in %3.\"]),\n",
        "    (r\"quit|exit\", [\"Goodbye!\", \"See you later!\"])\n",
        "]\n"
      ],
      "metadata": {
        "id": "tvnhkSwYdpQ2"
      },
      "execution_count": 13,
      "outputs": []
    },
    {
      "cell_type": "code",
      "source": [
        "chatbot = Chat(rules, reflections)\n"
      ],
      "metadata": {
        "id": "WS1ECv3Udx0b"
      },
      "execution_count": 14,
      "outputs": []
    },
    {
      "cell_type": "code",
      "source": [
        "def main():\n",
        "    print(\"Chatbot: Hi, I'm Chatbot! How can I help you?\")\n",
        "\n",
        "    while True:\n",
        "        user_input = input(\"You: \")\n",
        "        response = chatbot.respond(user_input)\n",
        "\n",
        "        if user_input.lower() == 'quit' or user_input.lower() == 'exit':\n",
        "            print(\"Chatbot: Goodbye!\")\n",
        "            break\n",
        "\n",
        "        print(f\"Chatbot: {response}\")\n",
        "\n",
        "if __name__ == \"__main__\":\n",
        "    main()\n"
      ],
      "metadata": {
        "colab": {
          "base_uri": "https://localhost:8080/"
        },
        "id": "EBiTfMlPd3cQ",
        "outputId": "5c9d4c41-574d-4152-bd7c-2622c91c475d"
      },
      "execution_count": 15,
      "outputs": [
        {
          "output_type": "stream",
          "name": "stdout",
          "text": [
            "Chatbot: Hi, I'm Chatbot! How can I help you?\n",
            "You: what is nlp\n",
            "Chatbot: None\n",
            "You: what is netural language processing?\n",
            "Chatbot: None\n",
            "You:  natural language processing?\n",
            "Chatbot: None\n",
            "You: What is natural language processing?\n",
            "Chatbot: Natural language processing (NLP) is a field of artificial intelligence that focuses on the interaction between computers and human language.t.\n",
            "You: exit\n",
            "Chatbot: Goodbye!\n"
          ]
        }
      ]
    }
  ]
}